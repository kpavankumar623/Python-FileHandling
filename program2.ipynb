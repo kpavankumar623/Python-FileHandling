{
 "cells": [
  {
   "cell_type": "code",
   "execution_count": 40,
   "metadata": {},
   "outputs": [],
   "source": [
    "import xmltodict\n",
    "import psycopg2\n",
    "\n",
    "xml_attribs = True\n",
    "with open(\"books.xml\", \"rb\") as f:    # notice the \"rb\" mode\n",
    "        dict = xmltodict.parse(f, xml_attribs=xml_attribs)\n",
    "\n",
    "\n",
    "con = psycopg2.connect( user = \"postgres\",\n",
    "                password = \"root\",\n",
    "                host = \"localhost\",\n",
    "                database= \"Employee\")\n",
    "cursor = con.cursor()\n",
    "\n",
    "#cursor.execute(\"\"\"CREATE TABLE BOOKLIST(ID VARCHAR(10),AUTHOR VARCHAR(),TITLE VARCHAR(),GENRE VARCHAR(),\n",
    "#               PRICE VARCHAR(10),PUBLISHDATE VARCHAR(),DESCRIPTION VARCHAR());\"\"\") \n",
    "#con.commit()\n",
    "#print(dict)\n",
    "#cursor.execute(\"\"\"ALTER TABLE BOOKLIST \n",
    "#    ALTER COLUMN ID TYPE VARCHAR,\n",
    "#    ALTER COLUMN AUTHOR TYPE VARCHAR,\n",
    "#   ALTER COLUMN TITLE TYPE VARCHAR,\n",
    "#    ALTER COLUMN GENRE TYPE VARCHAR,\n",
    "#   ALTER COLUMN PRICE TYPE VARCHAR,\n",
    "#  ALTER COLUMN PUBLISHDATE TYPE VARCHAR,\n",
    "#   ALTER COLUMN DESCRIPTION TYPE VARCHAR;\"\"\") \n",
    "#con.commit()\n",
    "\n",
    "for book in dict['catalog']['book']:\n",
    "    id = book['@id']\n",
    "    author = book['author']\n",
    "    title = book['title']\n",
    "    genre = book['genre']\n",
    "    price = book['price']\n",
    "    publish = book['publish_date']\n",
    "    description = book['description']\n",
    "    cursor.execute(\"\"\"insert into booklist(id,author,title,genre,price,publishdate,description) \n",
    "                     values(id,author,title,genre,price,publish,description)\"\"\")\n",
    "    con.commit()\n",
    "                \n",
    "con.close()  \n",
    "\n"
   ]
  }
 ],
 "metadata": {
  "kernelspec": {
   "display_name": "Python 3",
   "language": "python",
   "name": "python3"
  },
  "language_info": {
   "codemirror_mode": {
    "name": "ipython",
    "version": 3
   },
   "file_extension": ".py",
   "mimetype": "text/x-python",
   "name": "python",
   "nbconvert_exporter": "python",
   "pygments_lexer": "ipython3",
   "version": "3.7.4"
  }
 },
 "nbformat": 4,
 "nbformat_minor": 2
}
