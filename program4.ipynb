{
 "cells": [
  {
   "cell_type": "code",
   "execution_count": 38,
   "metadata": {},
   "outputs": [],
   "source": [
    "import csv\n",
    "\n",
    "def marks(m1,m2,m3):\n",
    "    if m1 =='NA':\n",
    "        m1 = 0\n",
    "    if m2 == 'NA':\n",
    "        m2 = 0\n",
    "    if m3 == 'NA':\n",
    "        m3=0\n",
    "    return int(m1)+int(m2)+int(m3)\n",
    "\n",
    "fp = open(\"marks.csv\",\"r\")\n",
    "reader = csv.reader(fp)\n",
    "rows = []\n",
    "next(reader)\n",
    "sum = 0\n",
    "for row in reader:\n",
    "    rows.append(row)\n",
    "    \n",
    "for row in rows:\n",
    "    sum = marks(row[1],row[2],row[3])\n",
    "    row[4] = sum\n",
    "rows = sorted(rows,key = lambda x: x[4])\n",
    "\n",
    "with open(\"reader.csv\",\"w+\") as rf:\n",
    "    writer = csv.writer(rf)\n",
    "    length = len(rows)\n",
    "    for line in rows[length:-6:-1]:\n",
    "        writer.writerow(line)\n",
    "        \n"
   ]
  }
 ],
 "metadata": {
  "kernelspec": {
   "display_name": "Python 3",
   "language": "python",
   "name": "python3"
  },
  "language_info": {
   "codemirror_mode": {
    "name": "ipython",
    "version": 3
   },
   "file_extension": ".py",
   "mimetype": "text/x-python",
   "name": "python",
   "nbconvert_exporter": "python",
   "pygments_lexer": "ipython3",
   "version": "3.7.4"
  }
 },
 "nbformat": 4,
 "nbformat_minor": 2
}
