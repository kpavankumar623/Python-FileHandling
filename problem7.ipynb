{
 "cells": [
  {
   "cell_type": "code",
   "execution_count": 55,
   "metadata": {},
   "outputs": [
    {
     "name": "stdout",
     "output_type": "stream",
     "text": [
      "Top 5 countries based on population increasing percentage: \n",
      "---Czech Republic\n",
      "---Myanmar\n",
      "---Syria\n",
      "---Rwanda\n",
      "---Swaziland\n"
     ]
    }
   ],
   "source": [
    "import csv\n",
    "fp = open(\"gapminder.csv\",\"r+\")\n",
    "\n",
    "csv_reader = csv.reader(fp)\n",
    "data = []\n",
    "next(csv_reader)\n",
    "for i in csv_reader:\n",
    "    data.append(i)\n",
    "\n",
    "popu_per= {}\n",
    "for i in data:\n",
    "    if i[1]=='1952':\n",
    "        popu_per[i[0]] = float(i[2])\n",
    "        incr_num = 0.0\n",
    "        incr_per = 0.0\n",
    "    elif i[1] == '2007':\n",
    "        incr_num = float(i[2]) - float(popu_per[i[0]])\n",
    "        incr_per = (incr_num / float(popu_per[i[0]])) * 100\n",
    "        popu_per[i[0]] = incr_per\n",
    "    \n",
    "sort_popu_per = sorted(popu_per,key = lambda x : x[1],reverse = True )\n",
    "print('Top 5 countries based on population increasing percentage: ')\n",
    "for i in sort_popu_per[0:5]:\n",
    "    print('---{}'.format(i))\n",
    "    "
   ]
  }
 ],
 "metadata": {
  "kernelspec": {
   "display_name": "Python 3",
   "language": "python",
   "name": "python3"
  },
  "language_info": {
   "codemirror_mode": {
    "name": "ipython",
    "version": 3
   },
   "file_extension": ".py",
   "mimetype": "text/x-python",
   "name": "python",
   "nbconvert_exporter": "python",
   "pygments_lexer": "ipython3",
   "version": "3.7.4"
  }
 },
 "nbformat": 4,
 "nbformat_minor": 2
}
